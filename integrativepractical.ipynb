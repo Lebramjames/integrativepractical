{
 "cells": [
  {
   "cell_type": "code",
   "execution_count": 159,
   "metadata": {},
   "outputs": [],
   "source": [
    "import numpy as np\n",
    "import pandas as pd\n",
    "import scipy as sc\n",
    "import math \n",
    "import matplotlib.pyplot as plt\n",
    "from random import random\n",
    "from sklearn import linear_model\n",
    "import statsmodels.api as sm\n"
   ]
  },
  {
   "cell_type": "markdown",
   "metadata": {},
   "source": [
    "### Loading Data"
   ]
  },
  {
   "cell_type": "code",
   "execution_count": 157,
   "metadata": {},
   "outputs": [],
   "source": [
    "df = pd.read_excel(r'C:\\Users\\bramg\\Documents\\Education_7.xlsx').fillna(0)\n",
    "columns = list(df.columns)\n",
    "vX = df[columns[5:7]]\n",
    "vY = df[columns[11:13]]\n",
    "\n",
    "vMath = df[['Mathematics A', 'Mathematics C', 'Mathematics B', 'Mathematics D']].to_numpy()\n",
    "vLanguage = df[['Dutch', 'English']].to_numpy()\n",
    "vOther = df[['Latin', 'Greek']].to_numpy()\n",
    "vHS = df[['Mathematics A', 'Mathematics C', 'Mathematics B', 'Mathematics D', 'Dutch', 'English', 'Latin', 'Greek']].to_numpy()\n",
    "\n",
    "vUniMath = df[['Mathematics Univ']].to_numpy()\n",
    "vUniDutch = df[['Dutch Univ']].to_numpy()"
   ]
  },
  {
   "cell_type": "code",
   "execution_count": 218,
   "metadata": {},
   "outputs": [],
   "source": [
    "def scatter(data1, data2):\n",
    "    plt.scatter(data1, data2)\n",
    "    plt.show()\n"
   ]
  },
  {
   "cell_type": "code",
   "execution_count": 219,
   "metadata": {},
   "outputs": [],
   "source": [
    "def histogram(data1, data2):\n",
    "    plt.hist(data1, bins=30, alpha=0.5)\n",
    "    plt.hist(data2, bins=30, alpha=0.5)\n",
    "    plt.show()"
   ]
  },
  {
   "cell_type": "code",
   "execution_count": 224,
   "metadata": {},
   "outputs": [
    {
     "data": {
      "image/png": "[encoded data removed]",
      "text/plain": [
       "<Figure size 640x480 with 1 Axes>"
      ]
     },
     "metadata": {},
     "output_type": "display_data"
    },
    {
     "name": "stdout",
     "output_type": "stream",
     "text": [
      "\n",
      "################################################################\n",
      "\n",
      "       Mathematics A  Mathematics C  Mathematics B  Mathematics D  \\\n",
      "count    1854.000000    1854.000000    1854.000000    1854.000000   \n",
      "mean        2.192826       1.496386       3.722060       1.644498   \n",
      "std         3.464878       3.050765       3.864658       3.185267   \n",
      "min         0.000000       0.000000       0.000000       0.000000   \n",
      "25%         0.000000       0.000000       0.000000       0.000000   \n",
      "50%         0.000000       0.000000       5.000000       0.000000   \n",
      "75%         5.600000       0.000000       7.400000       0.000000   \n",
      "max        10.000000      10.000000      10.000000      10.000000   \n",
      "\n",
      "             Dutch      English        Latin        Greek  Number of ECT's  \\\n",
      "count  1854.000000  1854.000000  1854.000000  1854.000000      1854.000000   \n",
      "mean      7.524865     7.538835     3.498544     3.527454        38.679612   \n",
      "std       1.465815     1.464718     3.860343     3.891434        12.448354   \n",
      "min       5.000000     5.000000     0.000000     0.000000         6.000000   \n",
      "25%       6.300000     6.200000     0.000000     0.000000        30.000000   \n",
      "50%       7.500000     7.600000     0.000000     0.000000        42.000000   \n",
      "75%       8.800000     8.800000     7.400000     7.400000        48.000000   \n",
      "max      10.000000    10.000000    10.000000    10.000000        60.000000   \n",
      "\n",
      "       Mathematics Univ   Dutch Univ  \n",
      "count       1854.000000  1854.000000  \n",
      "mean           6.950324     7.184898  \n",
      "std            1.272400     1.209282  \n",
      "min            2.710000     3.260000  \n",
      "25%            6.090000     6.390000  \n",
      "50%            6.945000     7.160000  \n",
      "75%            7.837500     7.980000  \n",
      "max           10.000000    10.000000  \n"
     ]
    }
   ],
   "source": [
    "def main():\n",
    "    #descriptive anlaysis: \n",
    "    #scatter:\n",
    "    histogram(vUniDutch, vUniMath)\n",
    "    \n",
    "    print(\"\\n################################################################\\n\")\n",
    "    print(df.iloc[:,1:].describe())\n",
    "main()"
   ]
  },
  {
   "cell_type": "code",
   "execution_count": 223,
   "metadata": {},
   "outputs": [],
   "source": [
    "#Correlation between every variable: \n",
    "\n",
    "def correlationData(data): \n",
    "    correlation_df = df.corr()\n",
    "    print(correlation_df) "
   ]
  },
  {
   "cell_type": "code",
   "execution_count": 225,
   "metadata": {},
   "outputs": [
    {
     "name": "stdout",
     "output_type": "stream",
     "text": [
      "\n",
      "################################################################\n",
      "\n",
      "                   Student  Mathematics A  Mathematics C  Mathematics B  \\\n",
      "Student           1.000000      -0.011844      -0.001659       0.010744   \n",
      "Mathematics A    -0.011844       1.000000      -0.310589      -0.609850   \n",
      "Mathematics C    -0.001659      -0.310589       1.000000      -0.472652   \n",
      "Mathematics B     0.010744      -0.609850      -0.472652       1.000000   \n",
      "Mathematics D     0.006387      -0.326917      -0.253371       0.505648   \n",
      "Dutch             0.062370      -0.019103       0.016050       0.006902   \n",
      "English          -0.023641       0.019725      -0.007046      -0.011283   \n",
      "Latin             0.010648      -0.004497      -0.062371       0.062983   \n",
      "Greek             0.009876      -0.002304      -0.064101       0.056131   \n",
      "Number of ECT's  -0.010538       0.102934       0.047115       0.034254   \n",
      "Mathematics Univ -0.007394       0.083952       0.041801       0.105780   \n",
      "Dutch Univ       -0.002853       0.082190       0.050344      -0.088938   \n",
      "\n",
      "                  Mathematics D     Dutch   English     Latin     Greek  \\\n",
      "Student                0.006387  0.062370 -0.023641  0.010648  0.009876   \n",
      "Mathematics A         -0.326917 -0.019103  0.019725 -0.004497 -0.002304   \n",
      "Mathematics C         -0.253371  0.016050 -0.007046 -0.062371 -0.064101   \n",
      "Mathematics B          0.505648  0.006902 -0.011283  0.062983  0.056131   \n",
      "Mathematics D          1.000000 -0.007507 -0.006195  0.042596  0.032926   \n",
      "Dutch                 -0.007507  1.000000 -0.013211  0.002987 -0.002401   \n",
      "English               -0.006195 -0.013211  1.000000  0.002379  0.003984   \n",
      "Latin                  0.042596  0.002987  0.002379  1.000000  0.937405   \n",
      "Greek                  0.032926 -0.002401  0.003984  0.937405  1.000000   \n",
      "Number of ECT's       -0.063830  0.237257  0.177577 -0.096510 -0.109397   \n",
      "Mathematics Univ      -0.064997  0.069890  0.071181 -0.027161 -0.035051   \n",
      "Dutch Univ            -0.038656  0.292341  0.217228 -0.170245 -0.179931   \n",
      "\n",
      "                  Number of ECT's  Mathematics Univ  Dutch Univ  \n",
      "Student                 -0.010538         -0.007394   -0.002853  \n",
      "Mathematics A            0.102934          0.083952    0.082190  \n",
      "Mathematics C            0.047115          0.041801    0.050344  \n",
      "Mathematics B            0.034254          0.105780   -0.088938  \n",
      "Mathematics D           -0.063830         -0.064997   -0.038656  \n",
      "Dutch                    0.237257          0.069890    0.292341  \n",
      "English                  0.177577          0.071181    0.217228  \n",
      "Latin                   -0.096510         -0.027161   -0.170245  \n",
      "Greek                   -0.109397         -0.035051   -0.179931  \n",
      "Number of ECT's          1.000000          0.728142    0.627283  \n",
      "Mathematics Univ         0.728142          1.000000    0.050335  \n",
      "Dutch Univ               0.627283          0.050335    1.000000  \n"
     ]
    }
   ],
   "source": [
    "def main():\n",
    "    print(\"\\n################################################################\\n\")\n",
    "    correlationData(df)\n",
    "main()"
   ]
  },
  {
   "cell_type": "markdown",
   "metadata": {},
   "source": [
    "## Mutliple Linear Regression Model"
   ]
  },
  {
   "cell_type": "code",
   "execution_count": 221,
   "metadata": {},
   "outputs": [],
   "source": [
    "def multiLinearRegression(X, y, features):\n",
    "    sm.add_constant(X)\n",
    "    model = sm.OLS(y, X)\n",
    "    results = model.fit()\n",
    "    print(results.summary(xname=features))"
   ]
  },
  {
   "cell_type": "code",
   "execution_count": 222,
   "metadata": {},
   "outputs": [
    {
     "name": "stdout",
     "output_type": "stream",
     "text": [
      "OLS Mathematics:\n",
      "\n",
      "                                 OLS Regression Results                                \n",
      "=======================================================================================\n",
      "Dep. Variable:                      y   R-squared (uncentered):                   0.977\n",
      "Model:                            OLS   Adj. R-squared (uncentered):              0.976\n",
      "Method:                 Least Squares   F-statistic:                              9625.\n",
      "Date:                Tue, 11 Jan 2022   Prob (F-statistic):                        0.00\n",
      "Time:                        23:47:39   Log-Likelihood:                         -2775.4\n",
      "No. Observations:                1854   AIC:                                      5567.\n",
      "Df Residuals:                    1846   BIC:                                      5611.\n",
      "Df Model:                           8                                                  \n",
      "Covariance Type:            nonrobust                                                  \n",
      "=================================================================================\n",
      "                    coef    std err          t      P>|t|      [0.025      0.975]\n",
      "---------------------------------------------------------------------------------\n",
      "Mathematics A     0.5877      0.015     38.789      0.000       0.558       0.617\n",
      "Mathematics C     0.5753      0.016     36.807      0.000       0.545       0.606\n",
      "Mathematics B     0.5944      0.015     40.177      0.000       0.565       0.623\n",
      "Mathematics D    -0.0352      0.009     -3.835      0.000      -0.053      -0.017\n",
      "Dutch             0.1732      0.014     12.367      0.000       0.146       0.201\n",
      "English           0.1769      0.014     12.646      0.000       0.150       0.204\n",
      "Latin            -0.0120      0.019     -0.640      0.522      -0.049       0.025\n",
      "Greek             0.0051      0.019      0.275      0.783      -0.031       0.042\n",
      "==============================================================================\n",
      "Omnibus:                        5.049   Durbin-Watson:                   1.969\n",
      "Prob(Omnibus):                  0.080   Jarque-Bera (JB):                5.757\n",
      "Skew:                           0.040   Prob(JB):                       0.0562\n",
      "Kurtosis:                       3.261   Cond. No.                         13.8\n",
      "==============================================================================\n",
      "\n",
      "Notes:\n",
      "[1] R² is computed without centering (uncentered) since the model does not contain a constant.\n",
      "[2] Standard Errors assume that the covariance matrix of the errors is correctly specified.\n",
      "\n",
      "\n",
      "################################################################################\n",
      "\n",
      "\n",
      "OLS Dutch: \n",
      "\n",
      "                                 OLS Regression Results                                \n",
      "=======================================================================================\n",
      "Dep. Variable:                      y   R-squared (uncentered):                   0.974\n",
      "Model:                            OLS   Adj. R-squared (uncentered):              0.974\n",
      "Method:                 Least Squares   F-statistic:                              8676.\n",
      "Date:                Tue, 11 Jan 2022   Prob (F-statistic):                        0.00\n",
      "Time:                        23:47:39   Log-Likelihood:                         -2926.1\n",
      "No. Observations:                1854   AIC:                                      5868.\n",
      "Df Residuals:                    1846   BIC:                                      5912.\n",
      "Df Model:                           8                                                  \n",
      "Covariance Type:            nonrobust                                                  \n",
      "=================================================================================\n",
      "                    coef    std err          t      P>|t|      [0.025      0.975]\n",
      "---------------------------------------------------------------------------------\n",
      "Mathematics A     0.2328      0.016     14.162      0.000       0.201       0.265\n",
      "Mathematics C     0.2223      0.017     13.112      0.000       0.189       0.256\n",
      "Mathematics B     0.1898      0.016     11.831      0.000       0.158       0.221\n",
      "Mathematics D     0.0176      0.010      1.767      0.077      -0.002       0.037\n",
      "Dutch             0.4105      0.015     27.015      0.000       0.381       0.440\n",
      "English           0.3489      0.015     22.990      0.000       0.319       0.379\n",
      "Latin            -0.0140      0.020     -0.686      0.493      -0.054       0.026\n",
      "Greek            -0.0315      0.020     -1.565      0.118      -0.071       0.008\n",
      "==============================================================================\n",
      "Omnibus:                        5.356   Durbin-Watson:                   1.959\n",
      "Prob(Omnibus):                  0.069   Jarque-Bera (JB):                5.275\n",
      "Skew:                          -0.127   Prob(JB):                       0.0715\n",
      "Kurtosis:                       3.059   Cond. No.                         13.8\n",
      "==============================================================================\n",
      "\n",
      "Notes:\n",
      "[1] R² is computed without centering (uncentered) since the model does not contain a constant.\n",
      "[2] Standard Errors assume that the covariance matrix of the errors is correctly specified.\n"
     ]
    }
   ],
   "source": [
    "def main():\n",
    "    #Uni Math\n",
    "    vY = vUniMath\n",
    "    features = list(df.iloc[:, 1:9].columns)\n",
    "    vX = vHS\n",
    "    print('OLS Mathematics:\\n')\n",
    "    multiLinearRegression(vX, vY, features)\n",
    "\n",
    "    #Uni Dutch: \n",
    "    print(\"\\n\\n################################################################################\\n\\n\")\n",
    "\n",
    "    vY = vUniDutch\n",
    "    vX = vHS\n",
    "    print('OLS Dutch: \\n')\n",
    "    multiLinearRegression(vX, vY, features)\n",
    "\n",
    "main()"
   ]
  },
  {
   "cell_type": "code",
   "execution_count": null,
   "metadata": {},
   "outputs": [],
   "source": []
  },
  {
   "cell_type": "markdown",
   "metadata": {},
   "source": [
    "### Multiple Linear Regression Model"
   ]
  },
  {
   "cell_type": "code",
   "execution_count": null,
   "metadata": {},
   "outputs": [],
   "source": []
  },
  {
   "cell_type": "markdown",
   "metadata": {},
   "source": []
  }
 ],
 "metadata": {
  "interpreter": {
   "hash": "b9a8a6ad4f5229acfc2458c70d811fada32d6fda3f3c12eb1cea5bca68370e93"
  },
  "kernelspec": {
   "display_name": "Python 3.10.1 64-bit",
   "language": "python",
   "name": "python3"
  },
  "language_info": {
   "codemirror_mode": {
    "name": "ipython",
    "version": 3
   },
   "file_extension": ".py",
   "mimetype": "text/x-python",
   "name": "python",
   "nbconvert_exporter": "python",
   "pygments_lexer": "ipython3",
   "version": "3.10.1"
  },
  "orig_nbformat": 4
 },
 "nbformat": 4,
 "nbformat_minor": 2
}
