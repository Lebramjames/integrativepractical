{
 "cells": [
  {
   "cell_type": "code",
   "execution_count": 80,
   "metadata": {},
   "outputs": [],
   "source": [
    "import numpy as np\n",
    "import pandas as pd\n",
    "import scipy as sc\n",
    "import math \n",
    "import matplotlib.pyplot as plt\n",
    "from random import random\n",
    "from sklearn import linear_model"
   ]
  },
  {
   "cell_type": "markdown",
   "metadata": {},
   "source": [
    "### Loading Data"
   ]
  },
  {
   "cell_type": "code",
   "execution_count": 157,
   "metadata": {},
   "outputs": [],
   "source": [
    "df = pd.read_excel(r'C:\\Users\\bramg\\Documents\\Education_7.xlsx').fillna(0)\n",
    "columns = list(df.columns)\n",
    "vX = df[columns[5:7]]\n",
    "vY = df[columns[11:13]]\n",
    "\n",
    "vMath = df[['Mathematics A', 'Mathematics C', 'Mathematics B', 'Mathematics D']].to_numpy()\n",
    "vLanguage = df[['Dutch', 'English']].to_numpy()\n",
    "vOther = df[['Latin', 'Greek']].to_numpy()\n",
    "vHS = df[['Mathematics A', 'Mathematics C', 'Mathematics B', 'Mathematics D', 'Dutch', 'English', 'Latin', 'Greek']].to_numpy()\n",
    "\n",
    "vUniMath = df[['Mathematics Univ']].to_numpy()\n",
    "vUniDutch = df[['Dutch Univ']].to_numpy()"
   ]
  },
  {
   "cell_type": "code",
   "execution_count": 130,
   "metadata": {},
   "outputs": [],
   "source": [
    "#Correlation between every variable: \n",
    "\n",
    "def correlation(data): \n",
    "    correlation_df = df.corr()\n",
    "    print(correlation_df) "
   ]
  },
  {
   "cell_type": "code",
   "execution_count": 131,
   "metadata": {},
   "outputs": [],
   "source": [
    "def scatter(data1, data2):\n",
    "    plt.scatter(data1, data2)\n",
    "    plt.show()\n"
   ]
  },
  {
   "cell_type": "code",
   "execution_count": 134,
   "metadata": {},
   "outputs": [],
   "source": [
    "def histogram(data1, data2):\n",
    "    plt.hist(data1, bins=30, alpha=0.5)\n",
    "    plt.hist(data2, bins=30, alpha=0.5)\n",
    "    plt.show()"
   ]
  },
  {
   "cell_type": "markdown",
   "metadata": {},
   "source": [
    "## Mutliple Linear Regression Model"
   ]
  },
  {
   "cell_type": "code",
   "execution_count": 158,
   "metadata": {},
   "outputs": [
    {
     "name": "stdout",
     "output_type": "stream",
     "text": [
      "[[0.  9.1 0.  ... 6.8 0.  0. ]\n",
      " [0.  0.  5.7 ... 9.6 0.  0. ]\n",
      " [0.  7.7 0.  ... 8.1 0.  0. ]\n",
      " ...\n",
      " [0.  0.  8.2 ... 7.7 6.2 9.1]\n",
      " [5.5 0.  0.  ... 8.1 9.3 9.5]\n",
      " [0.  0.  6.  ... 5.7 0.  0. ]]\n"
     ]
    }
   ],
   "source": []
  },
  {
   "cell_type": "markdown",
   "metadata": {},
   "source": [
    "### Multiple Linear Regression Model"
   ]
  },
  {
   "cell_type": "code",
   "execution_count": null,
   "metadata": {},
   "outputs": [],
   "source": []
  },
  {
   "cell_type": "markdown",
   "metadata": {},
   "source": []
  }
 ],
 "metadata": {
  "interpreter": {
   "hash": "b9a8a6ad4f5229acfc2458c70d811fada32d6fda3f3c12eb1cea5bca68370e93"
  },
  "kernelspec": {
   "display_name": "Python 3.10.1 64-bit",
   "language": "python",
   "name": "python3"
  },
  "language_info": {
   "codemirror_mode": {
    "name": "ipython",
    "version": 3
   },
   "file_extension": ".py",
   "mimetype": "text/x-python",
   "name": "python",
   "nbconvert_exporter": "python",
   "pygments_lexer": "ipython3",
   "version": "3.10.1"
  },
  "orig_nbformat": 4
 },
 "nbformat": 4,
 "nbformat_minor": 2
}
